{
  "cells": [
    {
      "cell_type": "markdown",
      "metadata": {
        "id": "X82309LSPmBx"
      },
      "source": [
        "# Python Programming for Absolute Beginners @ 36c3"
      ]
    },
    {
      "cell_type": "markdown",
      "metadata": {
        "id": "v67K1fVBPmBz"
      },
      "source": [
        "Each of these 'cells' contains code which can be executed by selecting the cell and pressing **CTRL + Enter**. If you do not have a keyboard, you can select the cell and press the **Run** button on top."
      ]
    },
    {
      "cell_type": "markdown",
      "metadata": {
        "id": "idQcPGtBPmBz"
      },
      "source": [
        "## 1. Hello World"
      ]
    },
    {
      "cell_type": "code",
      "execution_count": null,
      "metadata": {
        "id": "aTieyx8kPmBz"
      },
      "outputs": [],
      "source": [
        "print('Hello 36c3!')\n",
        "print('It is lovely to see you!')"
      ]
    },
    {
      "cell_type": "code",
      "execution_count": 1,
      "metadata": {
        "id": "JTF1Qbr8PmB0",
        "outputId": "318f9b0d-c08e-4ead-f820-4a6a7ccc097e",
        "colab": {
          "base_uri": "https://localhost:8080/"
        }
      },
      "outputs": [
        {
          "output_type": "stream",
          "name": "stdout",
          "text": [
            "Hello!\n",
            "Hello!\n",
            "Hello!\n",
            "Hello!\n",
            "Hello!\n"
          ]
        }
      ],
      "source": [
        "for i in range(5):\n",
        "    print('Hello!')"
      ]
    },
    {
      "cell_type": "markdown",
      "metadata": {
        "id": "5v03QdEJPmB1"
      },
      "source": [
        "## 2. The Basics"
      ]
    },
    {
      "cell_type": "markdown",
      "metadata": {
        "id": "TGEqKjHxPmB1"
      },
      "source": [
        "### 2.1 Variables"
      ]
    },
    {
      "cell_type": "code",
      "execution_count": null,
      "metadata": {
        "id": "o-LjKIA8PmB1"
      },
      "outputs": [],
      "source": [
        "a = 13\n",
        "b = 'Hello 36c3'\n",
        "c = 36.3"
      ]
    },
    {
      "cell_type": "code",
      "execution_count": 3,
      "metadata": {
        "id": "0Tdm0u4GPmB1",
        "outputId": "f72cee56-eead-4c29-855c-0bc74cc2feb1",
        "colab": {
          "base_uri": "https://localhost:8080/",
          "height": 35
        }
      },
      "outputs": [
        {
          "output_type": "execute_result",
          "data": {
            "text/plain": [
              "'Hello 36c3'"
            ],
            "application/vnd.google.colaboratory.intrinsic+json": {
              "type": "string"
            }
          },
          "metadata": {},
          "execution_count": 3
        }
      ],
      "source": [
        "a = 13\n",
        "b = 'Hello 36c3'\n",
        "c = 36.3\n",
        "\n",
        "b"
      ]
    },
    {
      "cell_type": "markdown",
      "metadata": {
        "id": "C_BO0jecPmB2"
      },
      "source": [
        "### 2.2 Lists"
      ]
    },
    {
      "cell_type": "code",
      "execution_count": null,
      "metadata": {
        "id": "q-PZv6KLPmB2"
      },
      "outputs": [],
      "source": [
        "l = [1, 2, 3, 4, a]"
      ]
    },
    {
      "cell_type": "code",
      "execution_count": null,
      "metadata": {
        "id": "Qx99_DO1PmB2"
      },
      "outputs": [],
      "source": [
        "l[0]"
      ]
    },
    {
      "cell_type": "code",
      "execution_count": null,
      "metadata": {
        "id": "pNrwJGfxPmB2"
      },
      "outputs": [],
      "source": [
        "la = [1, 2, 3]\n",
        "lb = [4, 5, 6]"
      ]
    },
    {
      "cell_type": "code",
      "execution_count": null,
      "metadata": {
        "id": "j_DcNYyaPmB2"
      },
      "outputs": [],
      "source": [
        "lol = [la, lb]"
      ]
    },
    {
      "cell_type": "code",
      "execution_count": null,
      "metadata": {
        "id": "aYoFWaU5PmB2"
      },
      "outputs": [],
      "source": [
        "lol[0][1]"
      ]
    },
    {
      "cell_type": "markdown",
      "metadata": {
        "id": "oPwZk0GJPmB2"
      },
      "source": [
        "### 2.3 Loops"
      ]
    },
    {
      "cell_type": "code",
      "execution_count": null,
      "metadata": {
        "id": "nf-1WC1cPmB2"
      },
      "outputs": [],
      "source": [
        "box = ['i0', 'i1', 'i2']"
      ]
    },
    {
      "cell_type": "code",
      "execution_count": null,
      "metadata": {
        "id": "WsYVtweLPmB2"
      },
      "outputs": [],
      "source": [
        "for item in box:\n",
        "    print(item)"
      ]
    },
    {
      "cell_type": "markdown",
      "metadata": {
        "id": "ZPtKjvljPmB3"
      },
      "source": [
        "### 2.4 If-Constructions"
      ]
    },
    {
      "cell_type": "code",
      "execution_count": null,
      "metadata": {
        "id": "iu8ntNXqPmB3"
      },
      "outputs": [],
      "source": [
        "a = 10\n",
        "\n",
        "if a > 16:\n",
        "    print('A is greater than 15')\n",
        "else:\n",
        "    print('A is not greater than 15')"
      ]
    },
    {
      "cell_type": "markdown",
      "metadata": {
        "id": "2qKPlMw3PmB3"
      },
      "source": [
        "### 2.5 Functions"
      ]
    },
    {
      "cell_type": "markdown",
      "metadata": {
        "id": "gS1iQ4jxPmB3"
      },
      "source": [
        "There are lots and lots of inbuild functions!"
      ]
    },
    {
      "cell_type": "code",
      "execution_count": null,
      "metadata": {
        "id": "rr2gp1UBPmB3"
      },
      "outputs": [],
      "source": [
        "print('Hello')"
      ]
    },
    {
      "cell_type": "code",
      "execution_count": null,
      "metadata": {
        "id": "TvST8xruPmB3"
      },
      "outputs": [],
      "source": [
        "round(3.14159)"
      ]
    },
    {
      "cell_type": "code",
      "execution_count": null,
      "metadata": {
        "id": "RBrteaX6PmB3"
      },
      "outputs": [],
      "source": [
        "round(3.14159, ndigits=2)"
      ]
    },
    {
      "cell_type": "markdown",
      "metadata": {
        "id": "X-atK4MiPmB3"
      },
      "source": [
        "... but of course we can create our own!"
      ]
    },
    {
      "cell_type": "code",
      "execution_count": null,
      "metadata": {
        "id": "aUEJe8qAPmB3"
      },
      "outputs": [],
      "source": [
        "def add(a, b):\n",
        "    result = a + b\n",
        "\n",
        "    return result"
      ]
    },
    {
      "cell_type": "code",
      "execution_count": null,
      "metadata": {
        "id": "tk1c85NBPmB3"
      },
      "outputs": [],
      "source": [
        "add(5, 10)"
      ]
    },
    {
      "cell_type": "code",
      "execution_count": null,
      "metadata": {
        "id": "DhqG-i-mPmB3"
      },
      "outputs": [],
      "source": [
        "add(2, 2)"
      ]
    },
    {
      "cell_type": "markdown",
      "metadata": {
        "id": "ADIGC6EQPmB3"
      },
      "source": [
        "## 3. The Pizza Problem"
      ]
    },
    {
      "cell_type": "markdown",
      "metadata": {
        "id": "Q2PzVPCPPmB3"
      },
      "source": [
        "### 3.1 Modeling the Pizzas"
      ]
    },
    {
      "cell_type": "code",
      "execution_count": null,
      "metadata": {
        "id": "6Iy_ebTWPmB3"
      },
      "outputs": [],
      "source": [
        "# A list of pizzas. Each pizza is represented as a list of lists.\n",
        "\n",
        "pizzas = [\n",
        "    ['small', [26, 0], 4.80, 'circle'],\n",
        "    ['large', [30, 0], 5.50, 'circle'],\n",
        "    ['family', [46, 33], 13.00, 'rectangle'],\n",
        "]"
      ]
    },
    {
      "cell_type": "code",
      "execution_count": null,
      "metadata": {
        "id": "dPe-5rq1PmB3"
      },
      "outputs": [],
      "source": [
        "pizzas[0]"
      ]
    },
    {
      "cell_type": "markdown",
      "metadata": {
        "id": "bRnnWCskPmB4"
      },
      "source": [
        "### 3.2 Determining the Areas"
      ]
    },
    {
      "cell_type": "code",
      "execution_count": null,
      "metadata": {
        "id": "f1PI7Q3mPmB4"
      },
      "outputs": [],
      "source": [
        "# A function to calculate area based on the shape and the size\n",
        "def pizza_area(size, shape):\n",
        "    if shape == 'circle':\n",
        "        area = 3.141 * (size[0] / 2) ** 2\n",
        "    if shape == 'rectangle':\n",
        "        area = size[0] * size[1]\n",
        "\n",
        "    return area"
      ]
    },
    {
      "cell_type": "code",
      "execution_count": null,
      "metadata": {
        "id": "0F47r7CGPmB4"
      },
      "outputs": [],
      "source": [
        "# Let's calculate these areas\n",
        "for pizza in pizzas:\n",
        "    area = pizza_area(pizza[1], pizza[3])\n",
        "    print(f'Pizza {pizza[0]} has an area of {area} cm^2')"
      ]
    },
    {
      "cell_type": "markdown",
      "metadata": {
        "id": "H8QV0If1PmB4"
      },
      "source": [
        "### 3.3 Determining PTERs and the Best Pizza"
      ]
    },
    {
      "cell_type": "code",
      "execution_count": null,
      "metadata": {
        "id": "Zh20bNx6PmB4"
      },
      "outputs": [],
      "source": [
        "def pizza_pter(area, price):\n",
        "    pter = area / price\n",
        "\n",
        "    return pter"
      ]
    },
    {
      "cell_type": "code",
      "execution_count": null,
      "metadata": {
        "id": "CTViov5nPmB4"
      },
      "outputs": [],
      "source": [
        "best_pizza = '' # An empty string (= sequence of characters)\n",
        "best_pter = 0\n",
        "worst_pizza = ''\n",
        "worst_pter = 9999\n",
        "\n",
        "for p in pizzas:\n",
        "    area = pizza_area(p[1], p[3])\n",
        "    pter = pizza_pter(area, p[2])\n",
        "\n",
        "    if pter > best_pter:\n",
        "        best_pter = pter\n",
        "        best_pizza = p[0]\n",
        "\n",
        "    if pter < worst_pter:\n",
        "        worst_pter = pter\n",
        "        worst_pizza = p[0]\n",
        "\n",
        "\n",
        "print(f'The best pizza is \"{best_pizza}\" with a PTER of {round(best_pter)}!')\n",
        "print(f'The worst pizza is \"{worst_pizza}\" with a PTER of {round(worst_pter)}!')"
      ]
    },
    {
      "cell_type": "markdown",
      "metadata": {
        "id": "r7CdMEQJPmB7"
      },
      "source": [
        "**A final note:** While this implementation works, it is far from elegant!\n",
        "**(1)** If you want to challenge yourself, read/watch up on dictionaries, and try to recreate a dictionary-based solution.\n",
        "**(2)** If you then want to challenge yourself futher, read/watch up on classes and object-oriented programming and build a solution based on that."
      ]
    }
  ],
  "metadata": {
    "kernelspec": {
      "display_name": "Python 3",
      "language": "python",
      "name": "python3"
    },
    "language_info": {
      "codemirror_mode": {
        "name": "ipython",
        "version": 3
      },
      "file_extension": ".py",
      "mimetype": "text/x-python",
      "name": "python",
      "nbconvert_exporter": "python",
      "pygments_lexer": "ipython3",
      "version": "3.7.6"
    },
    "colab": {
      "provenance": []
    }
  },
  "nbformat": 4,
  "nbformat_minor": 0
}